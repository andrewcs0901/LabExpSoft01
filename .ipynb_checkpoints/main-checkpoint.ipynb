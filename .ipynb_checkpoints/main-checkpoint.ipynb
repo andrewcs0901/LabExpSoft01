{
 "cells": [
  {
   "cell_type": "code",
   "execution_count": 1,
   "metadata": {},
   "outputs": [],
   "source": [
    "import pandas as pd\n",
    "import requests\n",
    "from datetime import datetime\n",
    "from datetime import date\n",
    "import seaborn as sns"
   ]
  },
  {
   "cell_type": "code",
   "execution_count": 2,
   "metadata": {},
   "outputs": [],
   "source": [
    "query = open('main_query.txt', 'r').read()\n",
    "response_data = []\n",
    "github_token = open('env', 'r').read()\n",
    "headers = { 'Authorization': f'bearer {github_token}' }"
   ]
  },
  {
   "cell_type": "code",
   "execution_count": null,
   "metadata": {},
   "outputs": [
    {
     "name": "stdout",
     "output_type": "stream",
     "text": [
      "Start making query\n",
      "Current page 0\n",
      "\"Y3Vyc29yOjEwMA==\"\n",
      "Quantity of total nodes: 100\n",
      "Current page 1\n",
      "\"Y3Vyc29yOjIwMA==\"\n",
      "Quantity of total nodes: 200\n",
      "Current page 2\n",
      "\"Y3Vyc29yOjMwMA==\"\n",
      "Quantity of total nodes: 300\n",
      "Current page 3\n",
      "\"Y3Vyc29yOjQwMA==\"\n",
      "Quantity of total nodes: 400\n",
      "Current page 4\n",
      "\"Y3Vyc29yOjUwMA==\"\n",
      "Quantity of total nodes: 500\n",
      "Current page 5\n",
      "\"Y3Vyc29yOjYwMA==\"\n",
      "Quantity of total nodes: 600\n",
      "Current page 6\n",
      "\"Y3Vyc29yOjcwMA==\"\n",
      "Quantity of total nodes: 700\n",
      "Current page 7\n"
     ]
    }
   ],
   "source": [
    "def makeRequest(query):\n",
    "    print('Start making query')\n",
    "    page = 0\n",
    "    previous_cursor = 'null'\n",
    "    while(page < 10):        \n",
    "        print(f'Current page {page}')\n",
    "        response = requests.post('https://api.github.com/graphql', headers=headers, json={'query':query})\n",
    "        if response.status_code == 200:\n",
    "            response_json = response.json()['data']['search']\n",
    "            nodes = response_json['nodes']\n",
    "            end_cursor = response_json['pageInfo']['endCursor']\n",
    "            query = query.replace(previous_cursor, f'\"{end_cursor}\"')\n",
    "            previous_cursor = f'\"{end_cursor}\"'\n",
    "            print(previous_cursor)\n",
    "            for item in nodes:\n",
    "                response_data.append(item)\n",
    "            print(f'Quantity of total nodes: {len(response_data)}')\n",
    "            page += 1\n",
    "        else:\n",
    "            print(f'Some error has happened, status code:  {response.status_code}')\n",
    "   \n",
    "\n",
    "       \n",
    "        \n",
    "makeRequest(query)"
   ]
  },
  {
   "cell_type": "code",
   "execution_count": null,
   "metadata": {},
   "outputs": [],
   "source": [
    "def convertJsonToDataFrame(response_data):\n",
    "    df = pd.json_normalize(response_data)\n",
    "    print('Finished converting json to csv')\n",
    "    return df\n",
    "\n",
    "df = convertJsonToDataFrame(response_data)"
   ]
  },
  {
   "cell_type": "code",
   "execution_count": null,
   "metadata": {},
   "outputs": [],
   "source": [
    "df.head()"
   ]
  },
  {
   "cell_type": "code",
   "execution_count": null,
   "metadata": {},
   "outputs": [],
   "source": [
    "def removeLastColumn(df):\n",
    "    df = df.drop(labels='primaryLanguage', axis=1)\n",
    "    return df\n",
    "df = removeLastColumn(df)"
   ]
  },
  {
   "cell_type": "code",
   "execution_count": null,
   "metadata": {},
   "outputs": [],
   "source": [
    "df.head()"
   ]
  },
  {
   "cell_type": "code",
   "execution_count": null,
   "metadata": {},
   "outputs": [],
   "source": [
    "def convertDateToAgeInDays(createdAt):\n",
    "    current_date = date.today()\n",
    "    createdAt = datetime.fromisoformat(createdAt.replace('Z', '+00:00')).date()\n",
    "    return (current_date - createdAt).days\n",
    "    \n",
    "df['age'] = df['createdAt'].apply(convertDateToAgeInDays)\n",
    "df['lastUpdate'] = df['updatedAt'].apply(convertDateToAgeInDays)"
   ]
  },
  {
   "cell_type": "code",
   "execution_count": null,
   "metadata": {},
   "outputs": [],
   "source": [
    "df.head()"
   ]
  },
  {
   "cell_type": "code",
   "execution_count": null,
   "metadata": {},
   "outputs": [],
   "source": [
    "percents = []\n",
    "\n",
    "def calculateIssuesPercent(open_issues, closed_issues):\n",
    "    if closed_issues == 0:\n",
    "        return 0\n",
    "    percent = ( closed_issues /  open_issues ) * 100\n",
    "    return \"{:.2f}\".format(percent)\n",
    "\n",
    "for i, row in df.iterrows():\n",
    "    percents.append(calculateIssuesPercent(row['open_issues.totalCount'], row['closed_issues.totalCount']))\n",
    "\n",
    "df['percent_of_issues'] = percents\n",
    "df.head()"
   ]
  },
  {
   "cell_type": "code",
   "execution_count": null,
   "metadata": {},
   "outputs": [],
   "source": [
    "def convertDataFrameToCsv(response_data):\n",
    "    print('Dataframe converted to CSV')\n",
    "    df.to_csv('pandas.csv')\n",
    "\n",
    "convertDataFrameToCsv(df)"
   ]
  },
  {
   "cell_type": "code",
   "execution_count": null,
   "metadata": {},
   "outputs": [],
   "source": [
    "percent_median = df['percent_of_issues'].median()\n",
    "print(f' Median: {percent_median}')\n",
    "age_box_plot = sns.boxplot(y='age', data=df, color='red', width=0.1, linewidth=0.8)\n",
    "median = df['age'].median()\n",
    "print(f' Median: {median}')"
   ]
  },
  {
   "cell_type": "code",
   "execution_count": null,
   "metadata": {},
   "outputs": [],
   "source": [
    "age_box_plot.figure.savefig(\"images/question1_age.png\")"
   ]
  },
  {
   "cell_type": "code",
   "execution_count": null,
   "metadata": {},
   "outputs": [],
   "source": [
    "q1 = df['age'].quantile(0.25)\n"
   ]
  },
  {
   "cell_type": "code",
   "execution_count": null,
   "metadata": {},
   "outputs": [],
   "source": [
    "q3 = df['age'].quantile(0.75)"
   ]
  },
  {
   "cell_type": "code",
   "execution_count": null,
   "metadata": {},
   "outputs": [],
   "source": [
    "iqr = q3 - q1"
   ]
  },
  {
   "cell_type": "code",
   "execution_count": null,
   "metadata": {},
   "outputs": [],
   "source": [
    "max = q3 + (1.5 * iqr)\n",
    "print(max)"
   ]
  },
  {
   "cell_type": "code",
   "execution_count": null,
   "metadata": {},
   "outputs": [],
   "source": [
    "min = q1 - 1.5 * iqr\n",
    "print(min)"
   ]
  },
  {
   "cell_type": "code",
   "execution_count": null,
   "metadata": {},
   "outputs": [],
   "source": [
    "pullRequest = sns.boxplot(y='pullRequests.totalCount', data=df, color='red', width=0.1, linewidth=0.8)\n",
    "median = df['pullRequests.totalCount'].median()\n",
    "print(f' Median: {median}')"
   ]
  },
  {
   "cell_type": "code",
   "execution_count": null,
   "metadata": {},
   "outputs": [],
   "source": []
  }
 ],
 "metadata": {
  "kernelspec": {
   "display_name": "Python 3",
   "language": "python",
   "name": "python3"
  },
  "language_info": {
   "codemirror_mode": {
    "name": "ipython",
    "version": 3
   },
   "file_extension": ".py",
   "mimetype": "text/x-python",
   "name": "python",
   "nbconvert_exporter": "python",
   "pygments_lexer": "ipython3",
   "version": "3.8.10"
  }
 },
 "nbformat": 4,
 "nbformat_minor": 2
}
