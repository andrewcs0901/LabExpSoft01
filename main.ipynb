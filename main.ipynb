{
 "cells": [
  {
   "cell_type": "code",
   "execution_count": 67,
   "metadata": {},
   "outputs": [],
   "source": [
    "import pandas as pd\n",
    "import requests\n",
    "from datetime import datetime\n",
    "from datetime import date\n",
    "import seaborn as sns"
   ]
  },
  {
   "cell_type": "code",
   "execution_count": 2,
   "metadata": {},
   "outputs": [],
   "source": [
    "query = open('main_query.txt', 'r').read()\n",
    "response_data = []\n",
    "github_token = open('env', 'r').read()\n",
    "headers = { 'Authorization': f'bearer {github_token}' }"
   ]
  },
  {
   "cell_type": "code",
   "execution_count": 3,
   "metadata": {},
   "outputs": [
    {
     "name": "stdout",
     "output_type": "stream",
     "text": [
      "Start making query\n",
      "Current page 0\n",
      "\"Y3Vyc29yOjEwMA==\"\n",
      "Quantity of total nodes: 100\n",
      "Current page 1\n",
      "\"Y3Vyc29yOjIwMA==\"\n",
      "Quantity of total nodes: 200\n",
      "Current page 2\n",
      "\"Y3Vyc29yOjMwMA==\"\n",
      "Quantity of total nodes: 300\n",
      "Current page 3\n",
      "\"Y3Vyc29yOjQwMA==\"\n",
      "Quantity of total nodes: 400\n",
      "Current page 4\n",
      "\"Y3Vyc29yOjUwMA==\"\n",
      "Quantity of total nodes: 500\n",
      "Current page 5\n",
      "\"Y3Vyc29yOjYwMA==\"\n",
      "Quantity of total nodes: 600\n",
      "Current page 6\n",
      "\"Y3Vyc29yOjcwMA==\"\n",
      "Quantity of total nodes: 700\n",
      "Current page 7\n",
      "\"Y3Vyc29yOjgwMA==\"\n",
      "Quantity of total nodes: 800\n",
      "Current page 8\n",
      "\"Y3Vyc29yOjkwMA==\"\n",
      "Quantity of total nodes: 900\n",
      "Current page 9\n",
      "\"Y3Vyc29yOjEwMDA=\"\n",
      "Quantity of total nodes: 1000\n"
     ]
    }
   ],
   "source": [
    "def makeRequest(query):\n",
    "    print('Start making query')\n",
    "    page = 0\n",
    "    previous_cursor = 'null'\n",
    "    while(page < 10):        \n",
    "        print(f'Current page {page}')\n",
    "        response = requests.post('https://api.github.com/graphql', headers=headers, json={'query':query})\n",
    "        if response.status_code == 200:\n",
    "            response_json = response.json()['data']['search']\n",
    "            nodes = response_json['nodes']\n",
    "            end_cursor = response_json['pageInfo']['endCursor']\n",
    "            query = query.replace(previous_cursor, f'\"{end_cursor}\"')\n",
    "            previous_cursor = f'\"{end_cursor}\"'\n",
    "            print(previous_cursor)\n",
    "            for item in nodes:\n",
    "                response_data.append(item)\n",
    "            print(f'Quantity of total nodes: {len(response_data)}')\n",
    "            page += 1\n",
    "        else:\n",
    "            print(f'Some error has happened, status code:  {response.status_code}')\n",
    "   \n",
    "\n",
    "       \n",
    "        \n",
    "makeRequest(query)"
   ]
  },
  {
   "cell_type": "code",
   "execution_count": 4,
   "metadata": {},
   "outputs": [
    {
     "name": "stdout",
     "output_type": "stream",
     "text": [
      "Finished converting json to csv\n"
     ]
    }
   ],
   "source": [
    "def convertJsonToDataFrame(response_data):\n",
    "    df = pd.json_normalize(response_data)\n",
    "    print('Finished converting json to csv')\n",
    "    return df\n",
    "\n",
    "df = convertJsonToDataFrame(response_data)"
   ]
  },
  {
   "cell_type": "code",
   "execution_count": 53,
   "metadata": {},
   "outputs": [
    {
     "data": {
      "text/html": [
       "<div>\n",
       "<style scoped>\n",
       "    .dataframe tbody tr th:only-of-type {\n",
       "        vertical-align: middle;\n",
       "    }\n",
       "\n",
       "    .dataframe tbody tr th {\n",
       "        vertical-align: top;\n",
       "    }\n",
       "\n",
       "    .dataframe thead th {\n",
       "        text-align: right;\n",
       "    }\n",
       "</style>\n",
       "<table border=\"1\" class=\"dataframe\">\n",
       "  <thead>\n",
       "    <tr style=\"text-align: right;\">\n",
       "      <th></th>\n",
       "      <th>stargazerCount</th>\n",
       "      <th>createdAt</th>\n",
       "      <th>name</th>\n",
       "      <th>updatedAt</th>\n",
       "      <th>url</th>\n",
       "      <th>open_issues.totalCount</th>\n",
       "      <th>closed_issues.totalCount</th>\n",
       "      <th>primaryLanguage.name</th>\n",
       "      <th>pullRequests.totalCount</th>\n",
       "      <th>releases.totalCount</th>\n",
       "      <th>primaryLanguage</th>\n",
       "    </tr>\n",
       "  </thead>\n",
       "  <tbody>\n",
       "    <tr>\n",
       "      <th>0</th>\n",
       "      <td>329071</td>\n",
       "      <td>2014-12-24T17:49:19Z</td>\n",
       "      <td>freeCodeCamp</td>\n",
       "      <td>2021-08-26T12:40:01Z</td>\n",
       "      <td>https://github.com/freeCodeCamp/freeCodeCamp</td>\n",
       "      <td>15520</td>\n",
       "      <td>15397</td>\n",
       "      <td>JavaScript</td>\n",
       "      <td>15331</td>\n",
       "      <td>0</td>\n",
       "      <td>NaN</td>\n",
       "    </tr>\n",
       "    <tr>\n",
       "      <th>1</th>\n",
       "      <td>258404</td>\n",
       "      <td>2019-03-26T07:31:14Z</td>\n",
       "      <td>996.ICU</td>\n",
       "      <td>2021-08-26T12:20:01Z</td>\n",
       "      <td>https://github.com/996icu/996.ICU</td>\n",
       "      <td>0</td>\n",
       "      <td>0</td>\n",
       "      <td>Rust</td>\n",
       "      <td>1020</td>\n",
       "      <td>0</td>\n",
       "      <td>NaN</td>\n",
       "    </tr>\n",
       "    <tr>\n",
       "      <th>2</th>\n",
       "      <td>199727</td>\n",
       "      <td>2013-10-11T06:50:37Z</td>\n",
       "      <td>free-programming-books</td>\n",
       "      <td>2021-08-26T12:34:44Z</td>\n",
       "      <td>https://github.com/EbookFoundation/free-progra...</td>\n",
       "      <td>589</td>\n",
       "      <td>569</td>\n",
       "      <td>NaN</td>\n",
       "      <td>3521</td>\n",
       "      <td>0</td>\n",
       "      <td>NaN</td>\n",
       "    </tr>\n",
       "    <tr>\n",
       "      <th>3</th>\n",
       "      <td>190358</td>\n",
       "      <td>2016-06-06T02:34:12Z</td>\n",
       "      <td>coding-interview-university</td>\n",
       "      <td>2021-08-26T12:22:42Z</td>\n",
       "      <td>https://github.com/jwasham/coding-interview-un...</td>\n",
       "      <td>276</td>\n",
       "      <td>241</td>\n",
       "      <td>NaN</td>\n",
       "      <td>249</td>\n",
       "      <td>0</td>\n",
       "      <td>NaN</td>\n",
       "    </tr>\n",
       "    <tr>\n",
       "      <th>4</th>\n",
       "      <td>187341</td>\n",
       "      <td>2013-07-29T03:24:51Z</td>\n",
       "      <td>vue</td>\n",
       "      <td>2021-08-26T12:40:02Z</td>\n",
       "      <td>https://github.com/vuejs/vue</td>\n",
       "      <td>9552</td>\n",
       "      <td>9232</td>\n",
       "      <td>JavaScript</td>\n",
       "      <td>1046</td>\n",
       "      <td>210</td>\n",
       "      <td>NaN</td>\n",
       "    </tr>\n",
       "  </tbody>\n",
       "</table>\n",
       "</div>"
      ],
      "text/plain": [
       "   stargazerCount             createdAt                         name  \\\n",
       "0          329071  2014-12-24T17:49:19Z                 freeCodeCamp   \n",
       "1          258404  2019-03-26T07:31:14Z                      996.ICU   \n",
       "2          199727  2013-10-11T06:50:37Z       free-programming-books   \n",
       "3          190358  2016-06-06T02:34:12Z  coding-interview-university   \n",
       "4          187341  2013-07-29T03:24:51Z                          vue   \n",
       "\n",
       "              updatedAt                                                url  \\\n",
       "0  2021-08-26T12:40:01Z       https://github.com/freeCodeCamp/freeCodeCamp   \n",
       "1  2021-08-26T12:20:01Z                  https://github.com/996icu/996.ICU   \n",
       "2  2021-08-26T12:34:44Z  https://github.com/EbookFoundation/free-progra...   \n",
       "3  2021-08-26T12:22:42Z  https://github.com/jwasham/coding-interview-un...   \n",
       "4  2021-08-26T12:40:02Z                       https://github.com/vuejs/vue   \n",
       "\n",
       "   open_issues.totalCount  closed_issues.totalCount primaryLanguage.name  \\\n",
       "0                   15520                     15397           JavaScript   \n",
       "1                       0                         0                 Rust   \n",
       "2                     589                       569                  NaN   \n",
       "3                     276                       241                  NaN   \n",
       "4                    9552                      9232           JavaScript   \n",
       "\n",
       "   pullRequests.totalCount  releases.totalCount  primaryLanguage  \n",
       "0                    15331                    0              NaN  \n",
       "1                     1020                    0              NaN  \n",
       "2                     3521                    0              NaN  \n",
       "3                      249                    0              NaN  \n",
       "4                     1046                  210              NaN  "
      ]
     },
     "execution_count": 53,
     "metadata": {},
     "output_type": "execute_result"
    }
   ],
   "source": [
    "df.head()"
   ]
  },
  {
   "cell_type": "code",
   "execution_count": 5,
   "metadata": {},
   "outputs": [],
   "source": [
    "def removeLastColumn(df):\n",
    "    df = df.drop(labels='primaryLanguage', axis=1)\n",
    "    return df\n",
    "df = removeLastColumn(df)"
   ]
  },
  {
   "cell_type": "code",
   "execution_count": 6,
   "metadata": {},
   "outputs": [
    {
     "data": {
      "text/html": [
       "<div>\n",
       "<style scoped>\n",
       "    .dataframe tbody tr th:only-of-type {\n",
       "        vertical-align: middle;\n",
       "    }\n",
       "\n",
       "    .dataframe tbody tr th {\n",
       "        vertical-align: top;\n",
       "    }\n",
       "\n",
       "    .dataframe thead th {\n",
       "        text-align: right;\n",
       "    }\n",
       "</style>\n",
       "<table border=\"1\" class=\"dataframe\">\n",
       "  <thead>\n",
       "    <tr style=\"text-align: right;\">\n",
       "      <th></th>\n",
       "      <th>stargazerCount</th>\n",
       "      <th>createdAt</th>\n",
       "      <th>name</th>\n",
       "      <th>updatedAt</th>\n",
       "      <th>url</th>\n",
       "      <th>open_issues.totalCount</th>\n",
       "      <th>closed_issues.totalCount</th>\n",
       "      <th>primaryLanguage.name</th>\n",
       "      <th>pullRequests.totalCount</th>\n",
       "      <th>releases.totalCount</th>\n",
       "    </tr>\n",
       "  </thead>\n",
       "  <tbody>\n",
       "    <tr>\n",
       "      <th>0</th>\n",
       "      <td>329192</td>\n",
       "      <td>2014-12-24T17:49:19Z</td>\n",
       "      <td>freeCodeCamp</td>\n",
       "      <td>2021-08-28T18:10:57Z</td>\n",
       "      <td>https://github.com/freeCodeCamp/freeCodeCamp</td>\n",
       "      <td>15526</td>\n",
       "      <td>15404</td>\n",
       "      <td>JavaScript</td>\n",
       "      <td>15353</td>\n",
       "      <td>0</td>\n",
       "    </tr>\n",
       "    <tr>\n",
       "      <th>1</th>\n",
       "      <td>258476</td>\n",
       "      <td>2019-03-26T07:31:14Z</td>\n",
       "      <td>996.ICU</td>\n",
       "      <td>2021-08-28T15:59:33Z</td>\n",
       "      <td>https://github.com/996icu/996.ICU</td>\n",
       "      <td>0</td>\n",
       "      <td>0</td>\n",
       "      <td>Rust</td>\n",
       "      <td>1020</td>\n",
       "      <td>0</td>\n",
       "    </tr>\n",
       "    <tr>\n",
       "      <th>2</th>\n",
       "      <td>200347</td>\n",
       "      <td>2013-10-11T06:50:37Z</td>\n",
       "      <td>free-programming-books</td>\n",
       "      <td>2021-08-28T18:19:46Z</td>\n",
       "      <td>https://github.com/EbookFoundation/free-progra...</td>\n",
       "      <td>593</td>\n",
       "      <td>570</td>\n",
       "      <td>NaN</td>\n",
       "      <td>3524</td>\n",
       "      <td>0</td>\n",
       "    </tr>\n",
       "    <tr>\n",
       "      <th>3</th>\n",
       "      <td>190482</td>\n",
       "      <td>2016-06-06T02:34:12Z</td>\n",
       "      <td>coding-interview-university</td>\n",
       "      <td>2021-08-28T18:21:20Z</td>\n",
       "      <td>https://github.com/jwasham/coding-interview-un...</td>\n",
       "      <td>277</td>\n",
       "      <td>242</td>\n",
       "      <td>NaN</td>\n",
       "      <td>250</td>\n",
       "      <td>0</td>\n",
       "    </tr>\n",
       "    <tr>\n",
       "      <th>4</th>\n",
       "      <td>187412</td>\n",
       "      <td>2013-07-29T03:24:51Z</td>\n",
       "      <td>vue</td>\n",
       "      <td>2021-08-28T18:19:44Z</td>\n",
       "      <td>https://github.com/vuejs/vue</td>\n",
       "      <td>9553</td>\n",
       "      <td>9233</td>\n",
       "      <td>JavaScript</td>\n",
       "      <td>1046</td>\n",
       "      <td>210</td>\n",
       "    </tr>\n",
       "  </tbody>\n",
       "</table>\n",
       "</div>"
      ],
      "text/plain": [
       "   stargazerCount             createdAt                         name  \\\n",
       "0          329192  2014-12-24T17:49:19Z                 freeCodeCamp   \n",
       "1          258476  2019-03-26T07:31:14Z                      996.ICU   \n",
       "2          200347  2013-10-11T06:50:37Z       free-programming-books   \n",
       "3          190482  2016-06-06T02:34:12Z  coding-interview-university   \n",
       "4          187412  2013-07-29T03:24:51Z                          vue   \n",
       "\n",
       "              updatedAt                                                url  \\\n",
       "0  2021-08-28T18:10:57Z       https://github.com/freeCodeCamp/freeCodeCamp   \n",
       "1  2021-08-28T15:59:33Z                  https://github.com/996icu/996.ICU   \n",
       "2  2021-08-28T18:19:46Z  https://github.com/EbookFoundation/free-progra...   \n",
       "3  2021-08-28T18:21:20Z  https://github.com/jwasham/coding-interview-un...   \n",
       "4  2021-08-28T18:19:44Z                       https://github.com/vuejs/vue   \n",
       "\n",
       "   open_issues.totalCount  closed_issues.totalCount primaryLanguage.name  \\\n",
       "0                   15526                     15404           JavaScript   \n",
       "1                       0                         0                 Rust   \n",
       "2                     593                       570                  NaN   \n",
       "3                     277                       242                  NaN   \n",
       "4                    9553                      9233           JavaScript   \n",
       "\n",
       "   pullRequests.totalCount  releases.totalCount  \n",
       "0                    15353                    0  \n",
       "1                     1020                    0  \n",
       "2                     3524                    0  \n",
       "3                      250                    0  \n",
       "4                     1046                  210  "
      ]
     },
     "execution_count": 6,
     "metadata": {},
     "output_type": "execute_result"
    }
   ],
   "source": [
    "df.head()"
   ]
  },
  {
   "cell_type": "code",
   "execution_count": 7,
   "metadata": {},
   "outputs": [],
   "source": [
    "def convertDateToAgeInDays(createdAt):\n",
    "    current_date = date.today()\n",
    "    createdAt = datetime.fromisoformat(createdAt.replace('Z', '+00:00')).date()\n",
    "    return (current_date - createdAt).days\n",
    "    \n",
    "df['age'] = df['createdAt'].apply(convertDateToAgeInDays)\n",
    "df['lastUpdate'] = df['updatedAt'].apply(convertDateToAgeInDays)"
   ]
  },
  {
   "cell_type": "code",
   "execution_count": 8,
   "metadata": {},
   "outputs": [
    {
     "data": {
      "text/html": [
       "<div>\n",
       "<style scoped>\n",
       "    .dataframe tbody tr th:only-of-type {\n",
       "        vertical-align: middle;\n",
       "    }\n",
       "\n",
       "    .dataframe tbody tr th {\n",
       "        vertical-align: top;\n",
       "    }\n",
       "\n",
       "    .dataframe thead th {\n",
       "        text-align: right;\n",
       "    }\n",
       "</style>\n",
       "<table border=\"1\" class=\"dataframe\">\n",
       "  <thead>\n",
       "    <tr style=\"text-align: right;\">\n",
       "      <th></th>\n",
       "      <th>stargazerCount</th>\n",
       "      <th>createdAt</th>\n",
       "      <th>name</th>\n",
       "      <th>updatedAt</th>\n",
       "      <th>url</th>\n",
       "      <th>open_issues.totalCount</th>\n",
       "      <th>closed_issues.totalCount</th>\n",
       "      <th>primaryLanguage.name</th>\n",
       "      <th>pullRequests.totalCount</th>\n",
       "      <th>releases.totalCount</th>\n",
       "      <th>age</th>\n",
       "      <th>lastUpdate</th>\n",
       "    </tr>\n",
       "  </thead>\n",
       "  <tbody>\n",
       "    <tr>\n",
       "      <th>0</th>\n",
       "      <td>329192</td>\n",
       "      <td>2014-12-24T17:49:19Z</td>\n",
       "      <td>freeCodeCamp</td>\n",
       "      <td>2021-08-28T18:10:57Z</td>\n",
       "      <td>https://github.com/freeCodeCamp/freeCodeCamp</td>\n",
       "      <td>15526</td>\n",
       "      <td>15404</td>\n",
       "      <td>JavaScript</td>\n",
       "      <td>15353</td>\n",
       "      <td>0</td>\n",
       "      <td>2439</td>\n",
       "      <td>0</td>\n",
       "    </tr>\n",
       "    <tr>\n",
       "      <th>1</th>\n",
       "      <td>258476</td>\n",
       "      <td>2019-03-26T07:31:14Z</td>\n",
       "      <td>996.ICU</td>\n",
       "      <td>2021-08-28T15:59:33Z</td>\n",
       "      <td>https://github.com/996icu/996.ICU</td>\n",
       "      <td>0</td>\n",
       "      <td>0</td>\n",
       "      <td>Rust</td>\n",
       "      <td>1020</td>\n",
       "      <td>0</td>\n",
       "      <td>886</td>\n",
       "      <td>0</td>\n",
       "    </tr>\n",
       "    <tr>\n",
       "      <th>2</th>\n",
       "      <td>200347</td>\n",
       "      <td>2013-10-11T06:50:37Z</td>\n",
       "      <td>free-programming-books</td>\n",
       "      <td>2021-08-28T18:19:46Z</td>\n",
       "      <td>https://github.com/EbookFoundation/free-progra...</td>\n",
       "      <td>593</td>\n",
       "      <td>570</td>\n",
       "      <td>NaN</td>\n",
       "      <td>3524</td>\n",
       "      <td>0</td>\n",
       "      <td>2878</td>\n",
       "      <td>0</td>\n",
       "    </tr>\n",
       "    <tr>\n",
       "      <th>3</th>\n",
       "      <td>190482</td>\n",
       "      <td>2016-06-06T02:34:12Z</td>\n",
       "      <td>coding-interview-university</td>\n",
       "      <td>2021-08-28T18:21:20Z</td>\n",
       "      <td>https://github.com/jwasham/coding-interview-un...</td>\n",
       "      <td>277</td>\n",
       "      <td>242</td>\n",
       "      <td>NaN</td>\n",
       "      <td>250</td>\n",
       "      <td>0</td>\n",
       "      <td>1909</td>\n",
       "      <td>0</td>\n",
       "    </tr>\n",
       "    <tr>\n",
       "      <th>4</th>\n",
       "      <td>187412</td>\n",
       "      <td>2013-07-29T03:24:51Z</td>\n",
       "      <td>vue</td>\n",
       "      <td>2021-08-28T18:19:44Z</td>\n",
       "      <td>https://github.com/vuejs/vue</td>\n",
       "      <td>9553</td>\n",
       "      <td>9233</td>\n",
       "      <td>JavaScript</td>\n",
       "      <td>1046</td>\n",
       "      <td>210</td>\n",
       "      <td>2952</td>\n",
       "      <td>0</td>\n",
       "    </tr>\n",
       "  </tbody>\n",
       "</table>\n",
       "</div>"
      ],
      "text/plain": [
       "   stargazerCount             createdAt                         name  \\\n",
       "0          329192  2014-12-24T17:49:19Z                 freeCodeCamp   \n",
       "1          258476  2019-03-26T07:31:14Z                      996.ICU   \n",
       "2          200347  2013-10-11T06:50:37Z       free-programming-books   \n",
       "3          190482  2016-06-06T02:34:12Z  coding-interview-university   \n",
       "4          187412  2013-07-29T03:24:51Z                          vue   \n",
       "\n",
       "              updatedAt                                                url  \\\n",
       "0  2021-08-28T18:10:57Z       https://github.com/freeCodeCamp/freeCodeCamp   \n",
       "1  2021-08-28T15:59:33Z                  https://github.com/996icu/996.ICU   \n",
       "2  2021-08-28T18:19:46Z  https://github.com/EbookFoundation/free-progra...   \n",
       "3  2021-08-28T18:21:20Z  https://github.com/jwasham/coding-interview-un...   \n",
       "4  2021-08-28T18:19:44Z                       https://github.com/vuejs/vue   \n",
       "\n",
       "   open_issues.totalCount  closed_issues.totalCount primaryLanguage.name  \\\n",
       "0                   15526                     15404           JavaScript   \n",
       "1                       0                         0                 Rust   \n",
       "2                     593                       570                  NaN   \n",
       "3                     277                       242                  NaN   \n",
       "4                    9553                      9233           JavaScript   \n",
       "\n",
       "   pullRequests.totalCount  releases.totalCount   age  lastUpdate  \n",
       "0                    15353                    0  2439           0  \n",
       "1                     1020                    0   886           0  \n",
       "2                     3524                    0  2878           0  \n",
       "3                      250                    0  1909           0  \n",
       "4                     1046                  210  2952           0  "
      ]
     },
     "execution_count": 8,
     "metadata": {},
     "output_type": "execute_result"
    }
   ],
   "source": [
    "df.head()"
   ]
  },
  {
   "cell_type": "code",
   "execution_count": 9,
   "metadata": {},
   "outputs": [
    {
     "name": "stdout",
     "output_type": "stream",
     "text": [
      "Dataframe converted to CSV\n"
     ]
    }
   ],
   "source": [
    "def convertDataFrameToCsv(response_data):\n",
    "    print('Dataframe converted to CSV')\n",
    "    df.to_csv('pandas.csv')\n",
    "\n",
    "convertDataFrameToCsv(df)"
   ]
  },
  {
   "cell_type": "code",
   "execution_count": 80,
   "metadata": {},
   "outputs": [
    {
     "name": "stdout",
     "output_type": "stream",
     "text": [
      " Median: 2354.0\n"
     ]
    },
    {
     "data": {
      "image/png": "[encoded data removed]",
      "text/plain": [
       "<Figure size 432x288 with 1 Axes>"
      ]
     },
     "metadata": {
      "needs_background": "light"
     },
     "output_type": "display_data"
    }
   ],
   "source": [
    "age_box_plot = sns.boxplot(y='age', data=df, color='red', width=0.1, linewidth=0.8)\n",
    "median = df['age'].median()\n",
    "print(f' Median: {median}')"
   ]
  },
  {
   "cell_type": "code",
   "execution_count": 69,
   "metadata": {},
   "outputs": [],
   "source": [
    "age_box_plot.figure.savefig(\"images/question1_age.png\")"
   ]
  },
  {
   "cell_type": "code",
   "execution_count": 72,
   "metadata": {},
   "outputs": [],
   "source": [
    "q1 = df['age'].quantile(0.25)\n"
   ]
  },
  {
   "cell_type": "code",
   "execution_count": 73,
   "metadata": {},
   "outputs": [],
   "source": [
    "q3 = df['age'].quantile(0.75)"
   ]
  },
  {
   "cell_type": "code",
   "execution_count": 74,
   "metadata": {},
   "outputs": [],
   "source": [
    "iqr = q3 - q1"
   ]
  },
  {
   "cell_type": "code",
   "execution_count": 75,
   "metadata": {},
   "outputs": [
    {
     "name": "stdout",
     "output_type": "stream",
     "text": [
      "4925.375\n"
     ]
    }
   ],
   "source": [
    "max = q3 + (1.5 * iqr)\n",
    "print(max)"
   ]
  },
  {
   "cell_type": "code",
   "execution_count": 81,
   "metadata": {},
   "outputs": [
    {
     "name": "stdout",
     "output_type": "stream",
     "text": [
      "-197.625\n"
     ]
    }
   ],
   "source": [
    "min = q1 - 1.5 * iqr\n",
    "print(min)"
   ]
  },
  {
   "cell_type": "code",
   "execution_count": null,
   "metadata": {},
   "outputs": [],
   "source": []
  }
 ],
 "metadata": {
  "kernelspec": {
   "display_name": "Python 3",
   "language": "python",
   "name": "python3"
  },
  "language_info": {
   "codemirror_mode": {
    "name": "ipython",
    "version": 3
   },
   "file_extension": ".py",
   "mimetype": "text/x-python",
   "name": "python",
   "nbconvert_exporter": "python",
   "pygments_lexer": "ipython3",
   "version": "3.8.10"
  }
 },
 "nbformat": 4,
 "nbformat_minor": 2
}
